{
 "cells": [
  {
   "cell_type": "markdown",
   "metadata": {},
   "source": [
    "# Classificateur SVM"
   ]
  },
  {
   "cell_type": "code",
   "execution_count": null,
   "metadata": {},
   "outputs": [],
   "source": [
    "#auteur I.CHELIKH 3704957\n",
    "\n",
    "import numpy as np\n",
    "import matplotlib.pyplot as plt\n",
    "import random\n",
    "\n",
    "from sklearn import svm\n",
    "from sklearn.metrics import confusion_matrix, accuracy_score"
   ]
  },
  {
   "cell_type": "code",
   "execution_count": null,
   "metadata": {},
   "outputs": [],
   "source": [
    "# chargement et mise en forme des données\n",
    "\n",
    "X_train, X_test, y_train, y_test = np.load('data.npy', allow_pickle = True)\n",
    "\n",
    "X_train=np.reshape(X_train,(X_train.shape[0],X_train.shape[1]*X_train.shape[2]))\n",
    "print(np.shape(X_train))\n",
    "X_test=np.reshape(X_test,(X_test.shape[0],X_test.shape[1]*X_test.shape[2]))\n",
    "print(np.shape(X_test))"
   ]
  },
  {
   "cell_type": "code",
   "execution_count": null,
   "metadata": {},
   "outputs": [],
   "source": [
    "# Sélection des variables pour la recherche du meilleur SVM sous noyau polynomial\n",
    "\n",
    "best_C=0\n",
    "max_accu=0\n",
    "C_try = [p for p in range(1, 50)]\n",
    "perf_tab = [0]*len(C_try)\n",
    "\n",
    "#Recherche du meilleur C pour SVM\n",
    "\n",
    "for i in C_try:\n",
    "\n",
    "    model = svm.SVC(kernel='poly', C=i)\n",
    "    model.fit(X_train, y_train) \n",
    "    y_pred= model.predict(X_test)\n",
    "    #print(i)\n",
    "    \n",
    "    perf_tab[i-1]= accuracy_score(y_test, y_pred)*100\n",
    "    if accuracy_score(y_test, y_pred) > max_accu:\n",
    "        max_accu = accuracy_score(y_test, y_pred)*100\n",
    "        best_C= i\n",
    "\n",
    "    \n",
    "print(\"Pour noyau polynomial Max taux de reconnaissance:\", max_accu, \"% pour C= \", best_C)\n",
    "\n",
    "\n"
   ]
  },
  {
   "cell_type": "code",
   "execution_count": null,
   "metadata": {},
   "outputs": [],
   "source": [
    "#affichage résultat pour noyau poly\n",
    "\n",
    "plt.plot(C_try, perf_tab)\n",
    "plt.ylabel(\"taux de reconnaissance\")\n",
    "plt.xlabel(\"C value\")\n",
    "\n",
    "plt.show()"
   ]
  },
  {
   "cell_type": "code",
   "execution_count": null,
   "metadata": {},
   "outputs": [],
   "source": [
    "# Sélection des variables pour la recherche du meilleur SVM sous linear\n",
    "best_C=0\n",
    "max_pres=0\n",
    "C_try = [p for p in range(1, 50)]\n",
    "perf_tab = [0]*len(C_try)\n",
    "\n",
    "#Recherche du meilleur C pour SVM\n",
    "for i in C_try:\n",
    "\n",
    "    model = svm.SVC(kernel='linear', C=i)\n",
    "    model.fit(X_train, y_train) \n",
    "    y_pred= model.predict(X_test)\n",
    "    #print(i)\n",
    "    \n",
    "    perf_tab[i-1]= accuracy_score(y_test, y_pred)*100\n",
    "    if accuracy_score(y_test, y_pred) > max_pres:\n",
    "        max_pres = accuracy_score(y_test, y_pred)*100\n",
    "        best_C= i\n",
    "\n",
    "    \n",
    "print(\"Pour noyau linear Max taux de reconnaissance:\", max_pres, \"% pour C= \", best_C)"
   ]
  },
  {
   "cell_type": "code",
   "execution_count": null,
   "metadata": {},
   "outputs": [],
   "source": [
    "#affichage pour linear \n",
    "plt.plot(C_try, perf_tab)\n",
    "plt.ylabel(\"taux de reconnaissance\")\n",
    "plt.xlabel(\"C value\")\n",
    "\n",
    "plt.show()\n"
   ]
  },
  {
   "cell_type": "code",
   "execution_count": null,
   "metadata": {},
   "outputs": [],
   "source": [
    "best_C=0\n",
    "max_pres=0\n",
    "C_try = [p for p in range(1, 20)]\n",
    "perf_tab = [0]*len(C_try)\n",
    "\n",
    "#Recherche du meilleur C SVM\n",
    "for i in C_try:\n",
    "\n",
    "    model = svm.SVC(kernel='rbf', C=i)\n",
    "    model.fit(X_train, y_train) \n",
    "    y_pred= model.predict(X_test)\n",
    "    print(i)\n",
    "    #print(accuracy_score(y_test, y_pred)*100)\n",
    "    perf_tab[i-1]= accuracy_score(y_test, y_pred)*100\n",
    "    if accuracy_score(y_test, y_pred) > max_pres:\n",
    "        max_pres = accuracy_score(y_test, y_pred)*100\n",
    "        best_C= i\n",
    "\n",
    "    \n",
    "print(\"Pour noyau rbf Max taux de reconnaissance:\", max_pres, \"% pour C= \", best_C)"
   ]
  },
  {
   "cell_type": "code",
   "execution_count": null,
   "metadata": {},
   "outputs": [],
   "source": [
    "#pour rbf\n",
    "plt.plot(C_try, perf_tab)\n",
    "plt.ylabel(\"taux de reconnaissance\")\n",
    "plt.xlabel(\"C value\")\n",
    "\n",
    "plt.show()"
   ]
  },
  {
   "cell_type": "code",
   "execution_count": null,
   "metadata": {},
   "outputs": [],
   "source": []
  }
 ],
 "metadata": {
  "kernelspec": {
   "display_name": "Python 3",
   "language": "python",
   "name": "python3"
  },
  "language_info": {
   "codemirror_mode": {
    "name": "ipython",
    "version": 3
   },
   "file_extension": ".py",
   "mimetype": "text/x-python",
   "name": "python",
   "nbconvert_exporter": "python",
   "pygments_lexer": "ipython3",
   "version": "3.6.4"
  }
 },
 "nbformat": 4,
 "nbformat_minor": 2
}
