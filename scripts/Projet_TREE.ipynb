{
 "cells": [
  {
   "cell_type": "markdown",
   "metadata": {},
   "source": [
    "# RandomForest Classificateur"
   ]
  },
  {
   "cell_type": "code",
   "execution_count": 4,
   "metadata": {},
   "outputs": [
    {
     "name": "stderr",
     "output_type": "stream",
     "text": [
      "C:\\Users\\idris\\Anaconda3\\lib\\site-packages\\sklearn\\ensemble\\weight_boosting.py:29: DeprecationWarning: numpy.core.umath_tests is an internal NumPy module and should not be imported. It will be removed in a future NumPy release.\n",
      "  from numpy.core.umath_tests import inner1d\n"
     ]
    }
   ],
   "source": [
    "#auteur I.CHELIKH 3704957\n",
    "\n",
    "#import des librairies\n",
    "import numpy as np\n",
    "import matplotlib.pyplot as plt\n",
    "import random\n",
    "from sklearn.model_selection import train_test_split\n",
    "from sklearn import preprocessing\n",
    "from sklearn import tree\n",
    "from sklearn import metrics\n",
    "from sklearn.decomposition import PCA\n",
    "from scipy import optimize\n",
    "from sklearn.model_selection import GridSearchCV \n",
    "\n",
    "from sklearn.ensemble import RandomForestClassifier"
   ]
  },
  {
   "cell_type": "code",
   "execution_count": 5,
   "metadata": {},
   "outputs": [],
   "source": [
    "# chargement des données\n",
    "\n",
    "X_train, X_test, y_train, y_test = np.load('data.npy', allow_pickle = True)"
   ]
  },
  {
   "cell_type": "code",
   "execution_count": 6,
   "metadata": {},
   "outputs": [
    {
     "name": "stdout",
     "output_type": "stream",
     "text": [
      "(1875, 144)\n",
      "(625, 144)\n"
     ]
    }
   ],
   "source": [
    "# traitement et mise en forme\n",
    "\n",
    "X_train=np.reshape(X_train,(X_train.shape[0],X_train.shape[1]*X_train.shape[2]))\n",
    "print(np.shape(X_train))\n",
    "X_test=np.reshape(X_test,(X_test.shape[0],X_test.shape[1]*X_test.shape[2]))\n",
    "print(np.shape(X_test))"
   ]
  },
  {
   "cell_type": "code",
   "execution_count": 32,
   "metadata": {},
   "outputs": [
    {
     "name": "stdout",
     "output_type": "stream",
     "text": [
      "vous pouvez décommenter le code dans cette cellule pour optimiser les paramètres du classificateur (temps de calcul très long)\n"
     ]
    }
   ],
   "source": [
    "# partie optimisation avec temps de calcul élevé ( plusieurs 10aines de minutes sur jupyter)\n",
    "# méthode tirée de https://towardsdatascience.com/optimizing-hyperparameters-in-random-forest-classification-ec7741f9d3f6\n",
    "\n",
    "\"\"\"\n",
    "#déclaration est mise en forme des paramètres à faire varier sous forme de dictionnaire\n",
    "n_estimators = [x for x in range(100,200,10)]\n",
    "max_depth = [x for x in range(5,15,1)]\n",
    "\n",
    "grid = {\n",
    "    \"n_estimators\": n_estimators,\n",
    "    \"max_depth\": max_depth\n",
    "    }\n",
    "    \n",
    "RF = RandomForestClassifier(criterion='entropy', random_state=1)\n",
    "\n",
    "#optimisiation des paramètres estimateurset profondeur\n",
    "RF_Grid = GridSearchCV(estimator = RF, param_grid = grid, cv=5)\n",
    "\n",
    "RF_Grid.fit(X_train, y_train)\n",
    "\n",
    "print(RF_Grid.best_params_)\n",
    "\n",
    "\"\"\"\n",
    "print(\"vous pouvez décommenter le code dans cette cellule pour optimiser les paramètres du classificateur (temps de calcul très long)\")"
   ]
  },
  {
   "cell_type": "code",
   "execution_count": 34,
   "metadata": {},
   "outputs": [
    {
     "name": "stdout",
     "output_type": "stream",
     "text": [
      "Taux de reconnaissance:  92.16 %\n",
      "Matrice de Confusion associée : \n",
      " [[55  0  1  0  1  1  0  0  1  0]\n",
      " [ 0 67  0  3  0  1  0  0  0  0]\n",
      " [ 3  1 45  0  1  0  1  1  1  0]\n",
      " [ 0  1  0 53  0  1  0  2  0  0]\n",
      " [ 0  0  0  0 53  1  0  1  1  1]\n",
      " [ 0  1  2  1  3 62  0  0  1  0]\n",
      " [ 0  0  0  0  0  0 63  0  1  1]\n",
      " [ 0  0  0  0  1  0  0 67  6  0]\n",
      " [ 0  0  0  0  1  1  0  4 51  0]\n",
      " [ 1  0  0  0  0  0  1  0  0 60]]\n"
     ]
    }
   ],
   "source": [
    "# partie avec les critères optimaux trouvés\n",
    "\n",
    "RF = RandomForestClassifier(criterion='entropy', n_estimators=153,max_depth = 11, random_state=1)\n",
    "RF.fit(X_train, y_train)\n",
    "\n",
    "y_pred = RF.predict(X_test)\n",
    "\n",
    "print(\"Taux de reconnaissance: \", metrics.accuracy_score(y_test, y_pred)*100, \"%\")\n",
    "\n",
    "print(\"Matrice de Confusion associée : \\n\", metrics.confusion_matrix(y_test, y_pred))"
   ]
  },
  {
   "cell_type": "code",
   "execution_count": null,
   "metadata": {},
   "outputs": [],
   "source": []
  }
 ],
 "metadata": {
  "kernelspec": {
   "display_name": "Python 3",
   "language": "python",
   "name": "python3"
  },
  "language_info": {
   "codemirror_mode": {
    "name": "ipython",
    "version": 3
   },
   "file_extension": ".py",
   "mimetype": "text/x-python",
   "name": "python",
   "nbconvert_exporter": "python",
   "pygments_lexer": "ipython3",
   "version": "3.6.4"
  }
 },
 "nbformat": 4,
 "nbformat_minor": 2
}
